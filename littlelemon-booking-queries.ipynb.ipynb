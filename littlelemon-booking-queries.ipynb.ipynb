{
 "cells": [
  {
   "cell_type": "code",
   "execution_count": 14,
   "id": "ccd0ec22-3443-4240-9c35-cb0b5214b756",
   "metadata": {},
   "outputs": [
    {
     "name": "stdout",
     "output_type": "stream",
     "text": [
      "Requirement already satisfied: mysql-connector-python in /Library/Frameworks/Python.framework/Versions/3.10/lib/python3.10/site-packages (9.3.0)\n"
     ]
    }
   ],
   "source": [
    "!pip install mysql-connector-python"
   ]
  },
  {
   "cell_type": "code",
   "execution_count": 15,
   "id": "3b380a33-45a6-4eff-bdfc-2526c98d556e",
   "metadata": {},
   "outputs": [
    {
     "name": "stdout",
     "output_type": "stream",
     "text": [
      "Conexión exitosa\n"
     ]
    }
   ],
   "source": [
    "import mysql.connector as connector\n",
    "\n",
    "connection = connector.connect(\n",
    "    host=\"localhost\",\n",
    "    user=\"root\",           # o tu usuario\n",
    "    password=\"\",\n",
    "    database=\"LittleLemonDB\"\n",
    ")\n",
    "\n",
    "print(\"Conexión exitosa\")\n"
   ]
  },
  {
   "cell_type": "code",
   "execution_count": 16,
   "id": "2d758a45-2221-4761-a977-54c26cfdaa47",
   "metadata": {},
   "outputs": [
    {
     "name": "stdout",
     "output_type": "stream",
     "text": [
      "📋 Tablas en la base de datos:\n",
      "- Bookings\n",
      "- Customers\n",
      "- MenuItems\n",
      "- Menus\n",
      "- Order_Delivery_Status\n",
      "- Order_Menu_Items\n",
      "- Orders\n",
      "- ordersview\n",
      "- Staff\n"
     ]
    }
   ],
   "source": [
    "# Crear cursor\n",
    "cursor = connection.cursor()\n",
    "\n",
    "# Definir la consulta\n",
    "show_tables_query = \"SHOW TABLES\"\n",
    "\n",
    "# Ejecutar la consulta\n",
    "cursor.execute(show_tables_query)\n",
    "\n",
    "# Obtener todos los resultados\n",
    "results = cursor.fetchall()\n",
    "\n",
    "# Imprimir resultados\n",
    "print(\"📋 Tablas en la base de datos:\")\n",
    "for table in results:\n",
    "    print(\"-\", table[0])\n"
   ]
  },
  {
   "cell_type": "code",
   "execution_count": 17,
   "id": "babaea88-2e39-4ea9-8f34-94b8e4fe8bdf",
   "metadata": {},
   "outputs": [
    {
     "name": "stdout",
     "output_type": "stream",
     "text": [
      "🧾 Customers with orders over $60:\n",
      "Name: Cliente de prueba | Phone: 1234567890 | Email: cliente@demo.com | Amount: $180.00\n"
     ]
    }
   ],
   "source": [
    "# Crear la consulta SQL\n",
    "join_query = \"\"\"\n",
    "SELECT \n",
    "    Customers.FullName,\n",
    "    Customers.ContactNumber,\n",
    "    Customers.Email,\n",
    "    Orders.Cost\n",
    "FROM \n",
    "    Customers\n",
    "JOIN \n",
    "    Orders ON Customers.CustomerID = Orders.CustomerID\n",
    "WHERE \n",
    "    Orders.Cost > 60\n",
    "\"\"\"\n",
    "\n",
    "\n",
    "# Ejecutar la consulta\n",
    "cursor.execute(join_query)\n",
    "\n",
    "# Obtener resultados\n",
    "results = cursor.fetchall()\n",
    "\n",
    "# Mostrar resultados\n",
    "print(\"🧾 Customers with orders over $60:\")\n",
    "for row in results:\n",
    "    print(f\"Name: {row[0]} | Phone: {row[1]} | Email: {row[2]} | Amount: ${row[3]}\")\n"
   ]
  },
  {
   "cell_type": "code",
   "execution_count": 20,
   "id": "9902b70a-d906-4a3a-94b0-85007c9620fb",
   "metadata": {},
   "outputs": [
    {
     "name": "stdout",
     "output_type": "stream",
     "text": [
      "MaxQuantity: 4\n",
      "Booking 30: [(30, datetime.date(2025, 7, 10), 2, 1)]\n",
      "Updated Date: [(datetime.date(2025, 7, 11),)]\n",
      "After CancelBooking: []\n",
      "Booking 31: [(31, datetime.date(2025, 7, 12), 3, 2)]\n",
      "Booking 32 (should be empty): []\n"
     ]
    }
   ],
   "source": [
    "# (Re)crea cursor buffered\n",
    "cursor = connection.cursor(buffered=True)\n",
    "\n",
    "# 1) GetMaxQuantity\n",
    "cursor.execute(\"CALL GetMaxQuantity()\")\n",
    "print(\"MaxQuantity:\", cursor.fetchone()[0])\n",
    "cursor.nextset()\n",
    "\n",
    "# 2) AddBooking\n",
    "cursor.execute(\"CALL AddBooking(30,1,2,'2025-07-10')\")\n",
    "cursor.nextset()\n",
    "cursor.execute(\"SELECT * FROM Bookings WHERE BookingID=30\")\n",
    "print(\"Booking 30:\", cursor.fetchall())\n",
    "cursor.nextset()\n",
    "\n",
    "# 3) UpdateBooking\n",
    "cursor.execute(\"CALL UpdateBooking(30,'2025-07-11')\")\n",
    "cursor.nextset()\n",
    "cursor.execute(\"SELECT BookingDate FROM Bookings WHERE BookingID=30\")\n",
    "print(\"Updated Date:\", cursor.fetchall())\n",
    "cursor.nextset()\n",
    "\n",
    "# 4) CancelBooking\n",
    "cursor.execute(\"CALL CancelBooking(30)\")\n",
    "cursor.nextset()\n",
    "cursor.execute(\"SELECT * FROM Bookings WHERE BookingID=30\")\n",
    "print(\"After CancelBooking:\", cursor.fetchall())\n",
    "cursor.nextset()\n",
    "\n",
    "# 5) ManageBooking (éxito)\n",
    "cursor.execute(\"CALL ManageBooking(31,2,3,'2025-07-12')\")\n",
    "cursor.nextset()\n",
    "cursor.execute(\"SELECT * FROM Bookings WHERE BookingID=31\")\n",
    "print(\"Booking 31:\", cursor.fetchall())\n",
    "cursor.nextset()\n",
    "\n",
    "# 5b) ManageBooking (rollback)\n",
    "cursor.execute(\"CALL ManageBooking(32,3,3,'2025-07-12')\")\n",
    "cursor.nextset()\n",
    "cursor.execute(\"SELECT * FROM Bookings WHERE BookingID=32\")\n",
    "print(\"Booking 32 (should be empty):\", cursor.fetchall())\n",
    "cursor.nextset()\n"
   ]
  },
  {
   "cell_type": "code",
   "execution_count": null,
   "id": "a0dc8d38-e177-4cf2-8230-8c697d663ea3",
   "metadata": {},
   "outputs": [],
   "source": []
  }
 ],
 "metadata": {
  "kernelspec": {
   "display_name": "Python 3 (ipykernel)",
   "language": "python",
   "name": "python3"
  },
  "language_info": {
   "codemirror_mode": {
    "name": "ipython",
    "version": 3
   },
   "file_extension": ".py",
   "mimetype": "text/x-python",
   "name": "python",
   "nbconvert_exporter": "python",
   "pygments_lexer": "ipython3",
   "version": "3.10.4"
  }
 },
 "nbformat": 4,
 "nbformat_minor": 5
}
